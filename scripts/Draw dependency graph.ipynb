{
 "cells": [
  {
   "source": [
    "Note: graphviz is in requirements.txt, but to get the binaries you'll probably want to install via conda."
   ],
   "cell_type": "markdown",
   "metadata": {}
  },
  {
   "cell_type": "code",
   "execution_count": 7,
   "metadata": {},
   "outputs": [
    {
     "output_type": "stream",
     "name": "stdout",
     "text": [
      "digraph {\n\tO [label=\"Open code\"]\n\tV [label=\"Version control\"]\n\tC [label=\"Command line\"]\n\tD [label=\"Open data\"]\n\tR [label=\"Reproducible research\"]\n\tE [label=Environments]\n\tL [label=\"Readable code\"]\n\tT [label=Testing]\n\tI [label=CI]\n\tW [label=\"Code review\"]\n\tS [label=\"Cloud storage\"]\n\tU [label=\"Cloud computing\"]\n\tM [label=Documentation]\n\tP [label=Packaging]\n\tV -> O [label=\"\"]\n\tC -> V [label=\"\"]\n\tO -> D [label=\"\"]\n\tO -> R [label=\"\"]\n\tD -> R [label=\"\"]\n\tE -> R [label=\"\"]\n\tC -> E [label=\"\"]\n\tO -> E [label=\"\"]\n\tO -> W [label=\"\"]\n\tO -> L [label=\"\"]\n\tC -> T [label=\"\"]\n\tT -> I [label=\"\"]\n\tO -> I [label=\"\"]\n\tE -> I [label=\"\"]\n\tW -> L [label=\"\"]\n\tE -> U [label=\"\"]\n\tT -> U [label=\"\"]\n\tV -> U [label=\"\"]\n\tS -> U [label=\"\"]\n\tS -> D [label=\"\"]\n\tM -> P [label=\"\"]\n\tT -> P [label=\"\"]\n\tW -> P [label=\"\"]\n\tO -> P [label=\"\"]\n\tI -> P [label=\"\"]\n\tT -> R [label=\"\"]\n\tL -> M [label=\"\"]\n}\n"
     ]
    },
    {
     "output_type": "execute_result",
     "data": {
      "text/plain": [
       "'../docs/figures/reproducible_research.pdf'"
      ]
     },
     "metadata": {},
     "execution_count": 7
    }
   ],
   "source": [
    "from graphviz import Digraph\n",
    "\n",
    "dot = Digraph()\n",
    "dot.node('O', 'Open code')\n",
    "dot.node('V', 'Version control')\n",
    "dot.node('C', 'Command line')\n",
    "dot.node('D', 'Open data')\n",
    "dot.node('R', 'Reproducible research')\n",
    "dot.node('E', 'Environments')\n",
    "dot.node('L', 'Readable code')\n",
    "dot.node('T', 'Testing')\n",
    "dot.node('I', 'CI')\n",
    "dot.node('W', 'Code review')\n",
    "dot.node('S', 'Cloud storage')\n",
    "dot.node('U', 'Cloud computing')\n",
    "dot.node('M', 'Documentation')\n",
    "dot.node('P', 'Packaging')\n",
    "\n",
    "dot.edge('V', 'O', '')\n",
    "dot.edge('C', 'V', '')\n",
    "dot.edge('O', 'D', '')\n",
    "dot.edge('O', 'R', '')\n",
    "dot.edge('D', 'R', '')\n",
    "dot.edge('E', 'R', '')\n",
    "dot.edge('C', 'E', '')\n",
    "dot.edge('O', 'E', '')\n",
    "dot.edge('O', 'W', '')\n",
    "dot.edge('O', 'L', '')\n",
    "dot.edge('C', 'T', '')\n",
    "dot.edge('T', 'I', '')\n",
    "dot.edge('O', 'I', '')\n",
    "dot.edge('E', 'I', '')\n",
    "dot.edge('W', 'L', '')\n",
    "dot.edge('E', 'U', '')\n",
    "dot.edge('T', 'U', '')\n",
    "dot.edge('V', 'U', '')\n",
    "dot.edge('S', 'U', '')\n",
    "dot.edge('S', 'D', '')\n",
    "dot.edge('M', 'P', '')\n",
    "dot.edge('T', 'P', '')\n",
    "dot.edge('W', 'P', '')\n",
    "dot.edge('O', 'P', '')\n",
    "dot.edge('I', 'P', '')\n",
    "dot.edge('T', 'R', '')\n",
    "dot.edge('L', 'M', '')\n",
    "\n",
    "print(dot.source)\n",
    "dot.render('../docs/figures/reproducible_research', view=False)"
   ]
  },
  {
   "cell_type": "code",
   "execution_count": 8,
   "metadata": {},
   "outputs": [
    {
     "output_type": "stream",
     "name": "stdout",
     "text": [
      "digraph {\n\tD [label=\"Create data\"]\n\tT [label=\"Transform data\"]\n\tF [label=\"Fit models\"]\n\tH [label=\"Test Hypotheses\"]\n\tP [label=\"Generate plots\"]\n\tW [label=\"Write and publish paper\"]\n\tD -> T [label=\"\"]\n\tT -> F [label=\"\"]\n\tF -> H [label=\"\"]\n\tH -> D [label=\"\"]\n\tH -> P [label=\"\"]\n\tP -> W [label=\"\"]\n}\n"
     ]
    },
    {
     "output_type": "execute_result",
     "data": {
      "text/plain": [
       "'../docs/figures/lifecycle_simple.pdf'"
      ]
     },
     "metadata": {},
     "execution_count": 8
    }
   ],
   "source": [
    "from graphviz import Digraph\n",
    "\n",
    "dot = Digraph()\n",
    "dot.node('D', 'Create data')\n",
    "dot.node('T', 'Transform data')\n",
    "dot.node('F', 'Fit models')\n",
    "dot.node('H', 'Test Hypotheses')\n",
    "dot.node('P', 'Generate plots')\n",
    "dot.node('W', 'Write and publish paper')\n",
    "\n",
    "dot.edge('D', 'T', '')\n",
    "dot.edge('T', 'F', '')\n",
    "dot.edge('F', 'H', '')\n",
    "dot.edge('H', 'D', '')\n",
    "dot.edge('H', 'P', '')\n",
    "dot.edge('P', 'W', '')\n",
    "\n",
    "print(dot.source)\n",
    "dot.render('../docs/figures/lifecycle_simple', view=False)"
   ]
  },
  {
   "cell_type": "code",
   "execution_count": 9,
   "metadata": {},
   "outputs": [
    {
     "output_type": "stream",
     "name": "stdout",
     "text": [
      "digraph {\n\tD [label=\"Create data\"]\n\tT [label=\"Transform data\"]\n\tF [label=\"Fit models\"]\n\tH [label=\"Test Hypotheses\"]\n\tP [label=\"Generate plots\"]\n\tW [label=\"Write and publish paper\"]\n\tB [label=\"Publish data\"]\n\tC [label=\"Publish code\"]\n\tD -> T [label=\"\"]\n\tT -> F [label=\"\"]\n\tF -> H [label=\"\"]\n\tH -> D [label=\"\"]\n\tH -> P [label=\"\"]\n\tH -> T [label=\"\"]\n\tH -> F [label=\"\"]\n\tP -> W [label=\"\"]\n\tD -> P [label=\"\"]\n\tP -> T [label=\"\"]\n\tP -> F [label=\"\"]\n\tD -> B [label=\"\"]\n\tW -> B [label=\"\"]\n\tW -> C [label=\"\"]\n\tF -> C [label=\"\"]\n}\n"
     ]
    },
    {
     "output_type": "execute_result",
     "data": {
      "text/plain": [
       "'../docs/figures/lifecycle_complex.pdf'"
      ]
     },
     "metadata": {},
     "execution_count": 9
    }
   ],
   "source": [
    "from graphviz import Digraph\n",
    "\n",
    "dot = Digraph()\n",
    "dot.node('D', 'Create data')\n",
    "dot.node('T', 'Transform data')\n",
    "dot.node('F', 'Fit models')\n",
    "dot.node('H', 'Test Hypotheses')\n",
    "dot.node('P', 'Generate plots')\n",
    "dot.node('W', 'Write and publish paper')\n",
    "dot.node('B', 'Publish data')\n",
    "dot.node('C', 'Publish code')\n",
    "\n",
    "dot.edge('D', 'T', '')\n",
    "dot.edge('T', 'F', '')\n",
    "dot.edge('F', 'H', '')\n",
    "dot.edge('H', 'D', '')\n",
    "dot.edge('H', 'P', '')\n",
    "dot.edge('H', 'T', '')\n",
    "dot.edge('H', 'F', '')\n",
    "dot.edge('P', 'W', '')\n",
    "dot.edge('D', 'P', '')\n",
    "dot.edge('P', 'T', '')\n",
    "dot.edge('P', 'F', '')\n",
    "dot.edge('D', 'B', '')\n",
    "dot.edge('W', 'B', '')\n",
    "dot.edge('W', 'C', '')\n",
    "dot.edge('F', 'C', '')\n",
    "\n",
    "print(dot.source)\n",
    "dot.render('../docs/figures/lifecycle_complex', view=False)"
   ]
  }
 ],
 "metadata": {
  "kernelspec": {
   "name": "python3",
   "display_name": "Python 3.8.5 64-bit ('gpg': conda)",
   "metadata": {
    "interpreter": {
     "hash": "ce31f03000ec776b9ef690d2ab56011f6e9daa1694a64fadd5368c8c54192b7d"
    }
   }
  },
  "language_info": {
   "codemirror_mode": {
    "name": "ipython",
    "version": 3
   },
   "file_extension": ".py",
   "mimetype": "text/x-python",
   "name": "python",
   "nbconvert_exporter": "python",
   "pygments_lexer": "ipython3",
   "version": "3.8.5-final"
  }
 },
 "nbformat": 4,
 "nbformat_minor": 4
}